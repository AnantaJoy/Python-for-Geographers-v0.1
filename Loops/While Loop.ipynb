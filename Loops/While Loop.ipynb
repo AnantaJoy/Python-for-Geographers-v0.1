{
 "cells": [
  {
   "cell_type": "code",
   "execution_count": 3,
   "id": "ff73d390",
   "metadata": {},
   "outputs": [
    {
     "name": "stdout",
     "output_type": "stream",
     "text": [
      "Enter your name:Joy\n",
      "Hello Joy !\n",
      "Enter 'q' to quit the program\n",
      "Enter your name:Jony\n",
      "Hello Jony !\n",
      "Enter 'q' to quit the program\n",
      "Enter your name:q\n",
      "Done\n"
     ]
    }
   ],
   "source": [
    "while True:\n",
    "    name = input(\"Enter your name:\")\n",
    "    if name=='q':\n",
    "        break\n",
    "    print(\"Hello\", name, \"!\")\n",
    "    print(\"Enter 'q' to quit the program\")\n",
    "print(\"Done\")"
   ]
  },
  {
   "cell_type": "markdown",
   "id": "ebac2805",
   "metadata": {},
   "source": [
    "`break`"
   ]
  },
  {
   "cell_type": "markdown",
   "id": "d900cb1e",
   "metadata": {},
   "source": [
    "`continue`"
   ]
  },
  {
   "cell_type": "markdown",
   "id": "183a27c7",
   "metadata": {},
   "source": [
    "`pass`"
   ]
  },
  {
   "cell_type": "code",
   "execution_count": null,
   "id": "b4c27fcb",
   "metadata": {},
   "outputs": [],
   "source": []
  }
 ],
 "metadata": {
  "kernelspec": {
   "display_name": "Python 3 (ipykernel)",
   "language": "python",
   "name": "python3"
  },
  "language_info": {
   "codemirror_mode": {
    "name": "ipython",
    "version": 3
   },
   "file_extension": ".py",
   "mimetype": "text/x-python",
   "name": "python",
   "nbconvert_exporter": "python",
   "pygments_lexer": "ipython3",
   "version": "3.11.2"
  }
 },
 "nbformat": 4,
 "nbformat_minor": 5
}
