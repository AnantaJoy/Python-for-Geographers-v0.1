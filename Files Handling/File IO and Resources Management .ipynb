{
 "cells": [
  {
   "cell_type": "markdown",
   "id": "3719bf03",
   "metadata": {},
   "source": [
    "* Binary Mode\n",
    "* Text Mode\n",
    "* Encoding"
   ]
  },
  {
   "cell_type": "markdown",
   "id": "3f28bb60",
   "metadata": {},
   "source": [
    "* Read\n",
    "* Write\n",
    "* Append\n",
    "    * Close"
   ]
  },
  {
   "cell_type": "markdown",
   "id": "a3dd9206",
   "metadata": {},
   "source": [
    "* Context Managers"
   ]
  },
  {
   "cell_type": "markdown",
   "id": "0856ef13",
   "metadata": {},
   "source": []
  }
 ],
 "metadata": {
  "kernelspec": {
   "display_name": "Python 3 (ipykernel)",
   "language": "python",
   "name": "python3"
  },
  "language_info": {
   "codemirror_mode": {
    "name": "ipython",
    "version": 3
   },
   "file_extension": ".py",
   "mimetype": "text/x-python",
   "name": "python",
   "nbconvert_exporter": "python",
   "pygments_lexer": "ipython3",
   "version": "3.11.2"
  }
 },
 "nbformat": 4,
 "nbformat_minor": 5
}
