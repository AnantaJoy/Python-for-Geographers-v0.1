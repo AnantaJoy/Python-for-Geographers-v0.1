{
 "cells": [
  {
   "cell_type": "markdown",
   "id": "6db1fd84",
   "metadata": {},
   "source": [
    "* Opening files"
   ]
  },
  {
   "cell_type": "code",
   "execution_count": 1,
   "id": "913bda52",
   "metadata": {},
   "outputs": [],
   "source": [
    "# opening a file with open() keyword"
   ]
  },
  {
   "cell_type": "markdown",
   "id": "d5334ce2",
   "metadata": {},
   "source": [
    "* Reading files"
   ]
  },
  {
   "cell_type": "code",
   "execution_count": 2,
   "id": "714cb209",
   "metadata": {},
   "outputs": [],
   "source": [
    "# reading a file with read() keyword"
   ]
  },
  {
   "cell_type": "markdown",
   "id": "09d45e80",
   "metadata": {},
   "source": [
    "* Writing files"
   ]
  },
  {
   "cell_type": "code",
   "execution_count": 3,
   "id": "a5b74f7e",
   "metadata": {},
   "outputs": [],
   "source": [
    "# Writing  files with 'w' mode"
   ]
  },
  {
   "cell_type": "code",
   "execution_count": null,
   "id": "e9b3131e",
   "metadata": {},
   "outputs": [],
   "source": []
  }
 ],
 "metadata": {
  "kernelspec": {
   "display_name": "Python 3 (ipykernel)",
   "language": "python",
   "name": "python3"
  },
  "language_info": {
   "codemirror_mode": {
    "name": "ipython",
    "version": 3
   },
   "file_extension": ".py",
   "mimetype": "text/x-python",
   "name": "python",
   "nbconvert_exporter": "python",
   "pygments_lexer": "ipython3",
   "version": "3.11.2"
  }
 },
 "nbformat": 4,
 "nbformat_minor": 5
}
