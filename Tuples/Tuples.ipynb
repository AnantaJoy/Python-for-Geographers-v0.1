{
 "cells": [
  {
   "cell_type": "markdown",
   "id": "7d0785f6",
   "metadata": {},
   "source": [
    "`Immutable`"
   ]
  },
  {
   "cell_type": "code",
   "execution_count": 2,
   "id": "f5b226b0",
   "metadata": {},
   "outputs": [
    {
     "data": {
      "text/plain": [
       "('a', 'b')"
      ]
     },
     "execution_count": 2,
     "metadata": {},
     "output_type": "execute_result"
    }
   ],
   "source": [
    "letter = 'a','b'\n",
    "letter"
   ]
  },
  {
   "cell_type": "code",
   "execution_count": 3,
   "id": "28fcc6c0",
   "metadata": {},
   "outputs": [
    {
     "data": {
      "text/plain": [
       "tuple"
      ]
     },
     "execution_count": 3,
     "metadata": {},
     "output_type": "execute_result"
    }
   ],
   "source": [
    "type(letter)"
   ]
  },
  {
   "cell_type": "code",
   "execution_count": 5,
   "id": "8ac0323f",
   "metadata": {},
   "outputs": [
    {
     "data": {
      "text/plain": [
       "tuple"
      ]
     },
     "execution_count": 5,
     "metadata": {},
     "output_type": "execute_result"
    }
   ],
   "source": [
    "year = (1952,1971)\n",
    "type(year)"
   ]
  },
  {
   "cell_type": "code",
   "execution_count": 6,
   "id": "052c89b9",
   "metadata": {},
   "outputs": [
    {
     "data": {
      "text/plain": [
       "('A', 'n', 'a', 'n', 't', 'a')"
      ]
     },
     "execution_count": 6,
     "metadata": {},
     "output_type": "execute_result"
    }
   ],
   "source": [
    "name = tuple('Ananta')\n",
    "name"
   ]
  },
  {
   "cell_type": "markdown",
   "id": "ad4d1283",
   "metadata": {},
   "source": [
    "* Tuple Unpacking"
   ]
  },
  {
   "cell_type": "code",
   "execution_count": 11,
   "id": "ecf8deba",
   "metadata": {},
   "outputs": [
    {
     "data": {
      "text/plain": [
       "[34, 24]"
      ]
     },
     "execution_count": 11,
     "metadata": {},
     "output_type": "execute_result"
    }
   ],
   "source": [
    "age = [23,34,24]\n",
    "person1, *person2 = age\n",
    "person2"
   ]
  },
  {
   "cell_type": "code",
   "execution_count": 15,
   "id": "27c0949f",
   "metadata": {},
   "outputs": [
    {
     "data": {
      "text/plain": [
       "'ru.ac.bd'"
      ]
     },
     "execution_count": 15,
     "metadata": {},
     "output_type": "execute_result"
    }
   ],
   "source": [
    "email = 'facult@ru.ac.bd'\n",
    "name, domain = email.split('@')\n",
    "domain"
   ]
  },
  {
   "cell_type": "code",
   "execution_count": null,
   "id": "eaae1a1d",
   "metadata": {},
   "outputs": [],
   "source": []
  }
 ],
 "metadata": {
  "kernelspec": {
   "display_name": "Python 3 (ipykernel)",
   "language": "python",
   "name": "python3"
  },
  "language_info": {
   "codemirror_mode": {
    "name": "ipython",
    "version": 3
   },
   "file_extension": ".py",
   "mimetype": "text/x-python",
   "name": "python",
   "nbconvert_exporter": "python",
   "pygments_lexer": "ipython3",
   "version": "3.11.2"
  }
 },
 "nbformat": 4,
 "nbformat_minor": 5
}
