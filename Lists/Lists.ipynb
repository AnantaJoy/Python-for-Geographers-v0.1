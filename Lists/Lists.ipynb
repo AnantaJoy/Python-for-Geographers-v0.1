{
 "cells": [
  {
   "cell_type": "markdown",
   "id": "cd4273df",
   "metadata": {},
   "source": [
    "**Lists are one of the most commonly used data types in Python. A list is a collection of items that can be of different types, such as numbers, strings, booleans, etc.** \n",
    "- Lists are mutable meaning they can be changed or modified after they are created.\n",
    "\n",
    "*`To create a list in Python, you use square brackets [ ] and separate the items by commas`*"
   ]
  },
  {
   "cell_type": "code",
   "execution_count": 16,
   "id": "83174dd0",
   "metadata": {},
   "outputs": [],
   "source": [
    "# Create a list of numbers\n",
    "numbers = [1, 2, 3, 4, 5]\n",
    "\n",
    "# Create a list of strings\n",
    "fruits = [\"apple\", \"banana\", \"cherry\"]\n",
    "\n",
    "# Create a list of mixed types\n",
    "mixed = [True, 3.14, \"hello\", [6, 7]]"
   ]
  },
  {
   "cell_type": "markdown",
   "id": "30cbce70",
   "metadata": {},
   "source": [
    "#### To access an item in a list, you use its index position inside square brackets. Index positions start from 0 for the first item and go up by 1 for each subsequent item"
   ]
  },
  {
   "cell_type": "code",
   "execution_count": 17,
   "id": "4042e292",
   "metadata": {},
   "outputs": [
    {
     "name": "stdout",
     "output_type": "stream",
     "text": [
      "1\n",
      "banana\n",
      "[6, 7]\n"
     ]
    }
   ],
   "source": [
    "# Access the first item in numbers\n",
    "print(numbers[0]) # Output: 1\n",
    "\n",
    "# Access the last item in fruits\n",
    "print(fruits[1]) # Output: cherry\n",
    "\n",
    "# Access the sublist in mixed\n",
    "print(mixed[3]) # Output: [6, 7]"
   ]
  },
  {
   "cell_type": "markdown",
   "id": "82987647",
   "metadata": {},
   "source": [
    "#### To change an item in a list, you assign a new value to its index position"
   ]
  },
  {
   "cell_type": "code",
   "execution_count": 3,
   "id": "fc61e393",
   "metadata": {},
   "outputs": [
    {
     "name": "stdout",
     "output_type": "stream",
     "text": [
      "[1, 10, 3, 4, 5]\n",
      "['orange', 'banana', 'cherry']\n"
     ]
    }
   ],
   "source": [
    "# Change the second item in numbers to 10\n",
    "numbers[1] = 10\n",
    "\n",
    "# Change the first item in fruits to \"orange\"\n",
    "fruits[0] = \"orange\"\n",
    "print(numbers)\n",
    "print(fruits)"
   ]
  },
  {
   "cell_type": "code",
   "execution_count": 20,
   "id": "af376ff1",
   "metadata": {},
   "outputs": [
    {
     "name": "stdout",
     "output_type": "stream",
     "text": [
      "[1, 2, 3, 4, 5, 6, 6]\n",
      "['apple', 'kiwi', 'kiwi', 'banana', 'cherry']\n",
      "[True, 3.14, 'hello', [6, 7], False, 'world', 9.81, False, 'world', 9.81]\n"
     ]
    }
   ],
   "source": [
    "# To add an item to a list, you can use methods such as append(), insert(), or extend()\n",
    "# Add 6 to the end of numbers using append()\n",
    "numbers.append(6)\n",
    "\n",
    "# Add \"kiwi\" to the second position in fruits using insert()\n",
    "fruits.insert(1,\"kiwi\")\n",
    "\n",
    "# Add another list to mixed using extend()\n",
    "mixed.extend([False,\"world\",9.81])\n",
    "print(numbers)\n",
    "print(fruits)\n",
    "print(mixed)"
   ]
  },
  {
   "cell_type": "code",
   "execution_count": 21,
   "id": "71705e2b",
   "metadata": {},
   "outputs": [
    {
     "name": "stdout",
     "output_type": "stream",
     "text": [
      "[1, 2, 3, 4, 5, 6]\n",
      "['apple', 'kiwi', 'kiwi', 'banana']\n",
      "[]\n"
     ]
    }
   ],
   "source": [
    "# To remove an item from a list, you can use methods such as pop(), remove(), or clear()\n",
    "# Remove and return the last item from numbers using pop()\n",
    "numbers.pop() # Output: 6\n",
    "fruits.remove('cherry')\n",
    "# Remove all items from mixed using clear()\n",
    "mixed.clear()\n",
    "print(numbers)\n",
    "print(fruits)\n",
    "print(mixed)"
   ]
  },
  {
   "cell_type": "markdown",
   "id": "66ca5438",
   "metadata": {},
   "source": [
    "Further Resources: [Python Lists](https://developers.google.com/edu/python/lists)"
   ]
  },
  {
   "cell_type": "code",
   "execution_count": null,
   "id": "cd1917ff",
   "metadata": {},
   "outputs": [],
   "source": []
  }
 ],
 "metadata": {
  "kernelspec": {
   "display_name": "Python 3 (ipykernel)",
   "language": "python",
   "name": "python3"
  },
  "language_info": {
   "codemirror_mode": {
    "name": "ipython",
    "version": 3
   },
   "file_extension": ".py",
   "mimetype": "text/x-python",
   "name": "python",
   "nbconvert_exporter": "python",
   "pygments_lexer": "ipython3",
   "version": "3.10.5"
  }
 },
 "nbformat": 4,
 "nbformat_minor": 5
}
