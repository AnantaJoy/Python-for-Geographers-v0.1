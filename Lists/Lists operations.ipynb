{
 "cells": [
  {
   "cell_type": "markdown",
   "id": "c7e921ed",
   "metadata": {},
   "source": [
    "* Mutability\n",
    "* Traversing"
   ]
  },
  {
   "cell_type": "markdown",
   "id": "52987911",
   "metadata": {},
   "source": [
    "* List Operations\n",
    "\n",
    "`concatenate(+)`\n"
   ]
  },
  {
   "cell_type": "code",
   "execution_count": 1,
   "id": "dcc1bee8",
   "metadata": {},
   "outputs": [],
   "source": [
    "# list1 + list2"
   ]
  },
  {
   "cell_type": "markdown",
   "id": "6ae7c666",
   "metadata": {},
   "source": [
    "`List Slices`"
   ]
  },
  {
   "cell_type": "markdown",
   "id": "33889025",
   "metadata": {},
   "source": [
    "`List Methods`\n",
    "* append()\n",
    "* extend()\n",
    "* sort()\n",
    "\n",
    "`Deleting elements`\n",
    "* pop()\n",
    "* del\n",
    "* remove()"
   ]
  },
  {
   "cell_type": "markdown",
   "id": "c24ff83c",
   "metadata": {},
   "source": [
    "* `len()`\n",
    "* `max()`\n",
    "* `max()`\n",
    "* `sum()`"
   ]
  },
  {
   "cell_type": "code",
   "execution_count": null,
   "id": "32712373",
   "metadata": {},
   "outputs": [],
   "source": []
  }
 ],
 "metadata": {
  "kernelspec": {
   "display_name": "Python 3 (ipykernel)",
   "language": "python",
   "name": "python3"
  },
  "language_info": {
   "codemirror_mode": {
    "name": "ipython",
    "version": 3
   },
   "file_extension": ".py",
   "mimetype": "text/x-python",
   "name": "python",
   "nbconvert_exporter": "python",
   "pygments_lexer": "ipython3",
   "version": "3.11.2"
  }
 },
 "nbformat": 4,
 "nbformat_minor": 5
}
