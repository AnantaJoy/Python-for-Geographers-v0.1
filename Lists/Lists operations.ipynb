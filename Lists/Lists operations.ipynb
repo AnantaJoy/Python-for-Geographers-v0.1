{
 "cells": [
  {
   "cell_type": "markdown",
   "id": "a1afdb64",
   "metadata": {},
   "source": [
    "`Python lists are data structures that group sequences of elements. Lists can have elements of several types, and you can also mix different types within the same list (although all elements are usually of the same datatype).`"
   ]
  },
  {
   "cell_type": "markdown",
   "id": "c7e921ed",
   "metadata": {},
   "source": [
    "* Mutability\n",
    "* Traversing"
   ]
  },
  {
   "cell_type": "markdown",
   "id": "52987911",
   "metadata": {},
   "source": [
    "* List Operations\n",
    "\n",
    "`concatenate(+)`\n"
   ]
  },
  {
   "cell_type": "code",
   "execution_count": 1,
   "id": "dcc1bee8",
   "metadata": {},
   "outputs": [],
   "source": [
    "# list1 + list2"
   ]
  },
  {
   "cell_type": "markdown",
   "id": "6ae7c666",
   "metadata": {},
   "source": [
    "`List Slices`"
   ]
  },
  {
   "cell_type": "markdown",
   "id": "33889025",
   "metadata": {},
   "source": [
    "`List Methods`\n",
    "* append()\n",
    "* extend()\n",
    "* sort()\n",
    "\n",
    "`Deleting elements`\n",
    "* pop()\n",
    "* del\n",
    "* remove()"
   ]
  },
  {
   "cell_type": "markdown",
   "id": "c24ff83c",
   "metadata": {},
   "source": [
    "* `len()`\n",
    "* `max()`\n",
    "* `max()`\n",
    "* `sum()`"
   ]
  },
  {
   "cell_type": "code",
   "execution_count": 1,
   "id": "32712373",
   "metadata": {},
   "outputs": [
    {
     "name": "stdout",
     "output_type": "stream",
     "text": [
      "[1, 2, 3, 4, 5]\n",
      "1\n",
      "2\n"
     ]
    }
   ],
   "source": [
    "l = [1, 2, 3, 4, 5]\n",
    "print(l)    #prints the entire list\n",
    "print(l[0]) #prints value at index 0\n",
    "print(l[1]) #prints value at index 1"
   ]
  },
  {
   "cell_type": "code",
   "execution_count": 2,
   "id": "c139a574",
   "metadata": {},
   "outputs": [
    {
     "name": "stdout",
     "output_type": "stream",
     "text": [
      "['a', 'b', 'c']\n"
     ]
    }
   ],
   "source": [
    "l = ['a', 'b', 'c', 'd', 'e']\n",
    "print(l[0:3])"
   ]
  },
  {
   "cell_type": "code",
   "execution_count": 3,
   "id": "613b350c",
   "metadata": {},
   "outputs": [
    {
     "name": "stdout",
     "output_type": "stream",
     "text": [
      "[1, 2, 3, 4]\n"
     ]
    }
   ],
   "source": [
    "# Concatenate the list\n",
    "print([1,2] + [3,4])"
   ]
  },
  {
   "cell_type": "code",
   "execution_count": 4,
   "id": "71f5f2a0",
   "metadata": {},
   "outputs": [
    {
     "name": "stdout",
     "output_type": "stream",
     "text": [
      "1\n",
      "2\n",
      "4\n",
      "8\n",
      "10\n"
     ]
    }
   ],
   "source": [
    "# traverse the list\n",
    "l=[1, 2, 4, 8, 10]\n",
    "for val in l:\n",
    "  print(val)"
   ]
  },
  {
   "cell_type": "code",
   "execution_count": 5,
   "id": "5a641684",
   "metadata": {},
   "outputs": [
    {
     "name": "stdout",
     "output_type": "stream",
     "text": [
      "[1, 4, 9]\n",
      "[10, 23]\n"
     ]
    }
   ],
   "source": [
    "# sublist of list\n",
    "def getSubList():\n",
    "  l = [1, 4, 9, 10, 23]\n",
    "  l1 = l[0:3] # sublist from index 0 to 3\n",
    "  l2 = l[3:] # sublist from 3 uptil end\n",
    "  return [l1, l2]\n",
    "[l1, l2] = getSubList()\n",
    "print(l1)\n",
    "print(l2)"
   ]
  },
  {
   "cell_type": "code",
   "execution_count": 6,
   "id": "7400a50e",
   "metadata": {},
   "outputs": [
    {
     "name": "stdout",
     "output_type": "stream",
     "text": [
      "[1, 4, 9, 10, 23, 90]\n"
     ]
    }
   ],
   "source": [
    "# appending a list\n",
    "def AppendtoList():\n",
    "  l = [1, 4, 9, 10, 23] \n",
    "  l.append(90)\n",
    "  return l\n",
    "l = AppendtoList()\n",
    "print(l)"
   ]
  },
  {
   "cell_type": "code",
   "execution_count": 8,
   "id": "3c03e763",
   "metadata": {},
   "outputs": [
    {
     "name": "stdout",
     "output_type": "stream",
     "text": [
      "9.4\n"
     ]
    }
   ],
   "source": [
    "# average of a list items\n",
    "def getAverage():\n",
    "  l1 = [1, 4, 9, 10, 23]\n",
    "  avg = sum(l1)/len(l1)  \n",
    "  return avg\n",
    "  \n",
    "avg = getAverage()\n",
    "print(avg)"
   ]
  },
  {
   "cell_type": "code",
   "execution_count": 11,
   "id": "87e9eef8",
   "metadata": {},
   "outputs": [
    {
     "data": {
      "text/plain": [
       "[1, 10, 23]"
      ]
     },
     "execution_count": 11,
     "metadata": {},
     "output_type": "execute_result"
    }
   ],
   "source": [
    "# remove list\n",
    "def removeList():\n",
    "  l1 = [1, 4, 9, 10, 23]\n",
    "  l2 = [4, 9]\n",
    "  ## Write your code here\n",
    "  for i in l2:\n",
    "    try:\n",
    "        l1.remove(i)\n",
    "    except ValueError:\n",
    "        pass\n",
    "  return l1\n",
    "removeList()"
   ]
  },
  {
   "cell_type": "code",
   "execution_count": null,
   "id": "a755e7bb",
   "metadata": {},
   "outputs": [],
   "source": []
  }
 ],
 "metadata": {
  "kernelspec": {
   "display_name": "Python 3 (ipykernel)",
   "language": "python",
   "name": "python3"
  },
  "language_info": {
   "codemirror_mode": {
    "name": "ipython",
    "version": 3
   },
   "file_extension": ".py",
   "mimetype": "text/x-python",
   "name": "python",
   "nbconvert_exporter": "python",
   "pygments_lexer": "ipython3",
   "version": "3.10.6"
  }
 },
 "nbformat": 4,
 "nbformat_minor": 5
}
