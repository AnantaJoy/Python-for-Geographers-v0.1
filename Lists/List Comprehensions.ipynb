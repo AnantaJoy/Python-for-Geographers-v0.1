{
 "cells": [
  {
   "cell_type": "markdown",
   "id": "0deda85d",
   "metadata": {},
   "source": [
    "https://docs.python.org/3/tutorial/datastructures.html#list-comprehensions"
   ]
  },
  {
   "cell_type": "code",
   "execution_count": 4,
   "id": "9e4c2c32",
   "metadata": {},
   "outputs": [
    {
     "name": "stdout",
     "output_type": "stream",
     "text": [
      "[0, 1, 4, 9]\n"
     ]
    },
    {
     "data": {
      "text/plain": [
       "[1, 4, 9, 16, 25, 36, 49, 64, 81, 100]"
      ]
     },
     "execution_count": 4,
     "metadata": {},
     "output_type": "execute_result"
    }
   ],
   "source": [
    "# square of a list\n",
    "print([x*x for x in [0, 1, 2, 3]])\n",
    "def getSquare():\n",
    "  ## Write your code here\n",
    "  l1 = [i*i for i in range(1,11)] ## Create your list here\n",
    "  return l1\n",
    "getSquare()"
   ]
  },
  {
   "cell_type": "code",
   "execution_count": 5,
   "id": "0f9b0790",
   "metadata": {},
   "outputs": [
    {
     "name": "stdout",
     "output_type": "stream",
     "text": [
      "[[0, 2, 4, 6, 8, 10, 12, 14, 16, 18, 20], [1, 3, 5, 7, 9, 11, 13, 15, 17, 19]]\n"
     ]
    }
   ],
   "source": [
    "# odd even classification\n",
    "def ListofEvenOdds():\n",
    "  l1 = []\n",
    "  l2 = []  \n",
    "  l1 = [x for x in range(0, 21) if (x % 2 == 0)]\n",
    "  l2 = [x for x in range(0, 21) if (x not in l1)]\n",
    "  return[l1, l2]\n",
    "  \n",
    "print(ListofEvenOdds())"
   ]
  },
  {
   "cell_type": "code",
   "execution_count": 6,
   "id": "e413eb1f",
   "metadata": {},
   "outputs": [
    {
     "name": "stdout",
     "output_type": "stream",
     "text": [
      "1540\n"
     ]
    }
   ],
   "source": [
    "# sum of all even\n",
    "def evenSquareSum():\n",
    "  even = [x * x for x in range(0, 21, 2)]\n",
    "  return sum(even)\n",
    "  \n",
    "print(evenSquareSum())"
   ]
  },
  {
   "cell_type": "code",
   "execution_count": null,
   "id": "bbef1424",
   "metadata": {},
   "outputs": [],
   "source": []
  }
 ],
 "metadata": {
  "kernelspec": {
   "display_name": "Python 3 (ipykernel)",
   "language": "python",
   "name": "python3"
  },
  "language_info": {
   "codemirror_mode": {
    "name": "ipython",
    "version": 3
   },
   "file_extension": ".py",
   "mimetype": "text/x-python",
   "name": "python",
   "nbconvert_exporter": "python",
   "pygments_lexer": "ipython3",
   "version": "3.10.6"
  }
 },
 "nbformat": 4,
 "nbformat_minor": 5
}
