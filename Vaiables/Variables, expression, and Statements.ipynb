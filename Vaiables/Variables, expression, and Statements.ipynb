{
 "cells": [
  {
   "cell_type": "markdown",
   "id": "3305f943",
   "metadata": {},
   "source": [
    "* Values and Types"
   ]
  },
  {
   "cell_type": "code",
   "execution_count": 1,
   "id": "4d285831",
   "metadata": {},
   "outputs": [
    {
     "name": "stdout",
     "output_type": "stream",
     "text": [
      "1952\n",
      "23.5\n",
      "Hello, World!\n"
     ]
    }
   ],
   "source": [
    "# values and types\n",
    "print(1952)\n",
    "print(23.5)\n",
    "print(\"Hello, World!\")"
   ]
  },
  {
   "cell_type": "markdown",
   "id": "e3d518ab",
   "metadata": {},
   "source": [
    "* Comments"
   ]
  },
  {
   "cell_type": "code",
   "execution_count": 10,
   "id": "6e58303c",
   "metadata": {},
   "outputs": [
    {
     "data": {
      "text/plain": [
       "'\\n'"
      ]
     },
     "execution_count": 10,
     "metadata": {},
     "output_type": "execute_result"
    }
   ],
   "source": [
    "# \n",
    "\"\"\"\n",
    "\"\"\""
   ]
  },
  {
   "cell_type": "code",
   "execution_count": 3,
   "id": "76a422d0",
   "metadata": {},
   "outputs": [
    {
     "name": "stdout",
     "output_type": "stream",
     "text": [
      "<class 'int'>\n",
      "<class 'float'>\n",
      "<class 'str'>\n",
      "<class 'bool'>\n"
     ]
    }
   ],
   "source": [
    "# check the data types using type function\n",
    "print(type(1952))\n",
    "print(type(23.5))\n",
    "print(type(\"Hello, World!\"))\n",
    "print(type(False))"
   ]
  },
  {
   "cell_type": "markdown",
   "id": "1d6bddf3",
   "metadata": {},
   "source": [
    "* Variables\n",
    "* Variable names"
   ]
  },
  {
   "cell_type": "code",
   "execution_count": 6,
   "id": "f243c06e",
   "metadata": {},
   "outputs": [
    {
     "name": "stdout",
     "output_type": "stream",
     "text": [
      "Hello Raj!\n"
     ]
    }
   ],
   "source": [
    "greet = \"Hello\"\n",
    "name = 'Raj'\n",
    "print(greet+ \" \" + name + \"!\")"
   ]
  },
  {
   "cell_type": "code",
   "execution_count": 7,
   "id": "9122035b",
   "metadata": {},
   "outputs": [
    {
     "name": "stdout",
     "output_type": "stream",
     "text": [
      "HelloHelloHelloHelloHelloHello\n"
     ]
    }
   ],
   "source": [
    "print(6*\"Hello\")"
   ]
  },
  {
   "cell_type": "markdown",
   "id": "bae7e6e4",
   "metadata": {},
   "source": [
    "* Keywords\n",
    "* Statements\n",
    "* Operators and Operands\n",
    "* Expressions\n",
    "* Order of Opeations\n",
    "    * PEMDAS"
   ]
  },
  {
   "cell_type": "markdown",
   "id": "3916ff42",
   "metadata": {},
   "source": [
    "* Concatenation"
   ]
  },
  {
   "cell_type": "code",
   "execution_count": 9,
   "id": "b637fe54",
   "metadata": {},
   "outputs": [
    {
     "name": "stdout",
     "output_type": "stream",
     "text": [
      "100200\n"
     ]
    }
   ],
   "source": [
    "first = '100'\n",
    "second = '200'\n",
    "print(first+ second)"
   ]
  },
  {
   "cell_type": "code",
   "execution_count": null,
   "id": "677bde4f",
   "metadata": {},
   "outputs": [],
   "source": []
  }
 ],
 "metadata": {
  "kernelspec": {
   "display_name": "Python 3 (ipykernel)",
   "language": "python",
   "name": "python3"
  },
  "language_info": {
   "codemirror_mode": {
    "name": "ipython",
    "version": 3
   },
   "file_extension": ".py",
   "mimetype": "text/x-python",
   "name": "python",
   "nbconvert_exporter": "python",
   "pygments_lexer": "ipython3",
   "version": "3.11.2"
  }
 },
 "nbformat": 4,
 "nbformat_minor": 5
}
