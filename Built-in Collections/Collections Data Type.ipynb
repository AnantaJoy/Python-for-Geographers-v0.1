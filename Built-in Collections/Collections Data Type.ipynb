{
 "cells": [
  {
   "cell_type": "markdown",
   "id": "4c9882b5",
   "metadata": {},
   "source": [
    "### Tuple\n",
    "* Immutable"
   ]
  },
  {
   "cell_type": "code",
   "execution_count": 1,
   "id": "ae5dac76",
   "metadata": {},
   "outputs": [
    {
     "data": {
      "text/plain": [
       "('Bangladesh', 1952, 1971, 'War', 'Bangla')"
      ]
     },
     "execution_count": 1,
     "metadata": {},
     "output_type": "execute_result"
    }
   ],
   "source": [
    "tuple = ('Bangladesh',1952,1971,'War','Bangla')\n",
    "tuple"
   ]
  },
  {
   "cell_type": "code",
   "execution_count": 2,
   "id": "72313ea9",
   "metadata": {},
   "outputs": [
    {
     "data": {
      "text/plain": [
       "'Bangla'"
      ]
     },
     "execution_count": 2,
     "metadata": {},
     "output_type": "execute_result"
    }
   ],
   "source": [
    "tuple[4]"
   ]
  },
  {
   "cell_type": "code",
   "execution_count": 3,
   "id": "bbae9bde",
   "metadata": {},
   "outputs": [
    {
     "data": {
      "text/plain": [
       "int"
      ]
     },
     "execution_count": 3,
     "metadata": {},
     "output_type": "execute_result"
    }
   ],
   "source": [
    "t = (21)\n",
    "type(t)"
   ]
  },
  {
   "cell_type": "code",
   "execution_count": 4,
   "id": "dac9d09c",
   "metadata": {},
   "outputs": [
    {
     "data": {
      "text/plain": [
       "tuple"
      ]
     },
     "execution_count": 4,
     "metadata": {},
     "output_type": "execute_result"
    }
   ],
   "source": [
    "t = (123,)\n",
    "type(t)"
   ]
  },
  {
   "cell_type": "markdown",
   "id": "77a917ad",
   "metadata": {},
   "source": [
    "* Tuple Unpacking"
   ]
  },
  {
   "cell_type": "code",
   "execution_count": 5,
   "id": "d7ddd615",
   "metadata": {},
   "outputs": [
    {
     "name": "stdout",
     "output_type": "stream",
     "text": [
      "29\n",
      "83\n"
     ]
    }
   ],
   "source": [
    "def minmax(items):\n",
    "    return min(items), max(items)\n",
    "\n",
    "min, max = minmax([83,49,43,29,49,74])\n",
    "print(min)\n",
    "print(max)\n"
   ]
  },
  {
   "cell_type": "code",
   "execution_count": 6,
   "id": "17bb5571",
   "metadata": {},
   "outputs": [
    {
     "data": {
      "text/plain": [
       "22"
      ]
     },
     "execution_count": 6,
     "metadata": {},
     "output_type": "execute_result"
    }
   ],
   "source": [
    "x, y = 21,22\n",
    "x,y = y,x\n",
    "x"
   ]
  },
  {
   "cell_type": "markdown",
   "id": "4955c8df",
   "metadata": {},
   "source": [
    "#### String Formatting"
   ]
  },
  {
   "cell_type": "code",
   "execution_count": 8,
   "id": "643e7642",
   "metadata": {},
   "outputs": [
    {
     "data": {
      "text/plain": [
       "'Math constants pi:3.142'"
      ]
     },
     "execution_count": 8,
     "metadata": {},
     "output_type": "execute_result"
    }
   ],
   "source": [
    "import math\n",
    "\"Math constants pi:{m.pi:.3f}\".format(m=math) "
   ]
  },
  {
   "cell_type": "code",
   "execution_count": null,
   "id": "b3ea002d",
   "metadata": {},
   "outputs": [],
   "source": [
    "# f-string\n"
   ]
  },
  {
   "cell_type": "markdown",
   "id": "069bd06f",
   "metadata": {},
   "source": [
    "#### Range()\n",
    "* `(start:stop:step)`"
   ]
  },
  {
   "cell_type": "markdown",
   "id": "dfa57a31",
   "metadata": {},
   "source": [
    "#### Enumerate \n",
    "* `(index,value)`"
   ]
  },
  {
   "cell_type": "markdown",
   "id": "a0f94971",
   "metadata": {},
   "source": [
    "#### Lists\n",
    "* indexing\n",
    "* slicing\n",
    "* negative indexing\n",
    "* copy\n",
    "* "
   ]
  },
  {
   "cell_type": "markdown",
   "id": "d6687a48",
   "metadata": {},
   "source": [
    "#### Dictionaries \n",
    "* `(key, value)` pair"
   ]
  },
  {
   "cell_type": "code",
   "execution_count": 9,
   "id": "7c94c834",
   "metadata": {},
   "outputs": [
    {
     "name": "stdout",
     "output_type": "stream",
     "text": [
      "{'Cl': 17, 'H': 1, 'Na': 11, 'O': 7}\n"
     ]
    }
   ],
   "source": [
    "from pprint import pprint as pp\n",
    "dict = {'H':1,\n",
    "       'O':7,\n",
    "       'Cl':17,\n",
    "       'Na':11}\n",
    "pp(dict)"
   ]
  },
  {
   "cell_type": "markdown",
   "id": "ba7b1576",
   "metadata": {},
   "source": [
    "#### Sets\n",
    "* Unorder\n",
    "* Unique\n",
    "* Mutable"
   ]
  },
  {
   "cell_type": "code",
   "execution_count": null,
   "id": "b5a93c2b",
   "metadata": {},
   "outputs": [],
   "source": []
  }
 ],
 "metadata": {
  "kernelspec": {
   "display_name": "Python 3 (ipykernel)",
   "language": "python",
   "name": "python3"
  },
  "language_info": {
   "codemirror_mode": {
    "name": "ipython",
    "version": 3
   },
   "file_extension": ".py",
   "mimetype": "text/x-python",
   "name": "python",
   "nbconvert_exporter": "python",
   "pygments_lexer": "ipython3",
   "version": "3.11.2"
  }
 },
 "nbformat": 4,
 "nbformat_minor": 5
}
