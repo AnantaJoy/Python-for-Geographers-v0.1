{
 "cells": [
  {
   "cell_type": "markdown",
   "id": "d0f9b414",
   "metadata": {},
   "source": [
    "#### Comprehension\n",
    "* Lists\n",
    "* Sets\n",
    "* DictioneDictionaries \n",
    "---\n",
    "- Readable\n",
    "- Expressive\n",
    "- Close to natural languages\n",
    "---\n"
   ]
  },
  {
   "cell_type": "markdown",
   "id": "fb74e699",
   "metadata": {},
   "source": [
    "#### List Comprehension"
   ]
  },
  {
   "cell_type": "markdown",
   "id": "8494589c",
   "metadata": {},
   "source": [
    "#### Set Comprehension"
   ]
  },
  {
   "cell_type": "markdown",
   "id": "f455433e",
   "metadata": {},
   "source": [
    "#### Dict Comprehension"
   ]
  },
  {
   "cell_type": "markdown",
   "id": "060098f6",
   "metadata": {},
   "source": [
    "#### Iterable vs Iterator\n",
    "```python:\n",
    "iter()\n",
    "next()\n",
    "```"
   ]
  },
  {
   "cell_type": "markdown",
   "id": "f548427f",
   "metadata": {},
   "source": [
    "#### Generator"
   ]
  },
  {
   "cell_type": "markdown",
   "id": "0f11d811",
   "metadata": {},
   "source": [
    "* zip()\n",
    "* sum()\n",
    "* any()"
   ]
  },
  {
   "cell_type": "code",
   "execution_count": null,
   "id": "0d49e65a",
   "metadata": {},
   "outputs": [],
   "source": []
  }
 ],
 "metadata": {
  "kernelspec": {
   "display_name": "Python 3 (ipykernel)",
   "language": "python",
   "name": "python3"
  },
  "language_info": {
   "codemirror_mode": {
    "name": "ipython",
    "version": 3
   },
   "file_extension": ".py",
   "mimetype": "text/x-python",
   "name": "python",
   "nbconvert_exporter": "python",
   "pygments_lexer": "ipython3",
   "version": "3.11.2"
  }
 },
 "nbformat": 4,
 "nbformat_minor": 5
}
