{
 "cells": [
  {
   "cell_type": "code",
   "execution_count": 3,
   "id": "e28a5e2b",
   "metadata": {},
   "outputs": [
    {
     "name": "stdout",
     "output_type": "stream",
     "text": [
      "Even\n"
     ]
    }
   ],
   "source": [
    "num = 8\n",
    "if num % 2 == 0:\n",
    "    print(\"Even\")\n",
    "else:\n",
    "    print(\"Odd\")"
   ]
  },
  {
   "cell_type": "code",
   "execution_count": 4,
   "id": "9b1a9ef8",
   "metadata": {},
   "outputs": [
    {
     "name": "stdout",
     "output_type": "stream",
     "text": [
      "Here\n"
     ]
    }
   ],
   "source": [
    "if True:\n",
    "    print(\"Here\")\n",
    "else:\n",
    "    print(\"This One\")\n"
   ]
  },
  {
   "cell_type": "code",
   "execution_count": 10,
   "id": "e2b5ed34",
   "metadata": {},
   "outputs": [
    {
     "name": "stdout",
     "output_type": "stream",
     "text": [
      "You can create a parental account\n"
     ]
    }
   ],
   "source": [
    "age = 14\n",
    "if age>=18:\n",
    "    print(\"You can craete a account\")\n",
    "\n",
    "elif age>=13 and age <18:\n",
    "    print(\"You can create a parental account\")\n",
    "    \n",
    "else:\n",
    "    print(\"You cannot\")"
   ]
  },
  {
   "cell_type": "code",
   "execution_count": 15,
   "id": "bb60fa4c",
   "metadata": {},
   "outputs": [
    {
     "name": "stdout",
     "output_type": "stream",
     "text": [
      "Enter your marks: 7\n"
     ]
    },
    {
     "data": {
      "text/plain": [
       "int"
      ]
     },
     "execution_count": 15,
     "metadata": {},
     "output_type": "execute_result"
    }
   ],
   "source": [
    "cgpa = 3.5\n",
    "cgpa = int(input(\"Enter your marks: \"))\n",
    "\n",
    "# if cgpa<3.75 and cgpa > 3.25:\n",
    "#     print('A-')\n",
    "# elif ----:\n",
    "#     pass\n",
    "# ....\n",
    "# ...\n",
    "# ...\n",
    "# ...\n",
    "\n",
    "type(cgpa)"
   ]
  },
  {
   "cell_type": "code",
   "execution_count": 16,
   "id": "e50f086f",
   "metadata": {},
   "outputs": [
    {
     "name": "stdout",
     "output_type": "stream",
     "text": [
      "This is here\n"
     ]
    }
   ],
   "source": [
    "num = 50\n",
    "\n",
    "if num >= 0 and num <=100:\n",
    "    if num >= 50 and num <= 75:\n",
    "        print(\"This is here\")"
   ]
  },
  {
   "cell_type": "code",
   "execution_count": null,
   "id": "2c8dc72d",
   "metadata": {},
   "outputs": [],
   "source": []
  }
 ],
 "metadata": {
  "kernelspec": {
   "display_name": "Python 3 (ipykernel)",
   "language": "python",
   "name": "python3"
  },
  "language_info": {
   "codemirror_mode": {
    "name": "ipython",
    "version": 3
   },
   "file_extension": ".py",
   "mimetype": "text/x-python",
   "name": "python",
   "nbconvert_exporter": "python",
   "pygments_lexer": "ipython3",
   "version": "3.11.2"
  }
 },
 "nbformat": 4,
 "nbformat_minor": 5
}
