{
 "cells": [
  {
   "cell_type": "markdown",
   "id": "8cc9db2c",
   "metadata": {},
   "source": [
    "* Built-in functions"
   ]
  },
  {
   "cell_type": "markdown",
   "id": "ff5f5295",
   "metadata": {},
   "source": [
    "* define a function\n",
    "* calling a function"
   ]
  },
  {
   "cell_type": "markdown",
   "id": "0260fa95",
   "metadata": {},
   "source": [
    "```python:\n",
    "Math function\n",
    "datetime\n",
    "calendar\n",
    "```"
   ]
  },
  {
   "cell_type": "markdown",
   "id": "2e98cd8f",
   "metadata": {},
   "source": [
    "* Flow of execution"
   ]
  },
  {
   "cell_type": "markdown",
   "id": "b4f2474f",
   "metadata": {},
   "source": [
    "* Parameters and arguments"
   ]
  },
  {
   "cell_type": "markdown",
   "id": "6461720d",
   "metadata": {},
   "source": [
    "* pass by value\n",
    "* pass by reference"
   ]
  },
  {
   "cell_type": "code",
   "execution_count": null,
   "id": "347ca3d9",
   "metadata": {},
   "outputs": [],
   "source": []
  }
 ],
 "metadata": {
  "kernelspec": {
   "display_name": "Python 3 (ipykernel)",
   "language": "python",
   "name": "python3"
  },
  "language_info": {
   "codemirror_mode": {
    "name": "ipython",
    "version": 3
   },
   "file_extension": ".py",
   "mimetype": "text/x-python",
   "name": "python",
   "nbconvert_exporter": "python",
   "pygments_lexer": "ipython3",
   "version": "3.10.6"
  }
 },
 "nbformat": 4,
 "nbformat_minor": 5
}
