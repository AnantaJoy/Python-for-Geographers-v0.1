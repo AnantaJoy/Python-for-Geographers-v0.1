{
 "cells": [
  {
   "cell_type": "markdown",
   "id": "3d82434e",
   "metadata": {},
   "source": [
    "### Variables and Vaiable Naming Convention\n",
    "- What is Variable?\n",
    "> A variable in Python is a name given to a memory location that stores a value.You can create a variable by assigning it a value with an equals sign (=), for example:\n",
    "`year = 2023` \n",
    "`city = “Rajshahi”` \n",
    "\n",
    "[Variable](http://www.aipython.in/wp-content/uploads/2020/02/assign_value_to_variable.png)\n",
    "\n",
    "### Variable Naming Conventions\n",
    "*Variable naming conventions in Python are guidelines for choosing meaningful and consistent names for variables. Some common rules are:*\n",
    "\n",
    "- A variable name must start with a letter or an underscore (_)23.\n",
    "- Variable name cannot start with a number.\n",
    "- Don't use Python `keyword` as vaiable name. you can checkout complete list of keyword using the following code:\n",
    "\n",
    "> `import keyword\n",
    "print(keyword.kwlist)`\n",
    "- A variable name can only contain alphanumeric characters (A-Z, a-z, 0-9) and underscores (_).\n",
    "- A variable name should be descriptive and lowercase, with words separated by underscores and no space between them. For example: first_name, total_volume, etc."
   ]
  },
  {
   "cell_type": "markdown",
   "id": "268a8fc7",
   "metadata": {},
   "source": [
    "### Primitive Data Types \n",
    "* Number\n",
    "    * Interger(int)\n",
    "    * Float(float)\n",
    "    * Complex Number(complex)\n",
    "* String(str)\n",
    "* Boolean(bool)"
   ]
  },
  {
   "cell_type": "markdown",
   "id": "fd9ae32e",
   "metadata": {},
   "source": [
    "#### Integer(int)"
   ]
  },
  {
   "cell_type": "code",
   "execution_count": 1,
   "id": "081a943d",
   "metadata": {},
   "outputs": [
    {
     "name": "stdout",
     "output_type": "stream",
     "text": [
      "<class 'int'>\n",
      "Five years later your age will be: 29 years\n"
     ]
    }
   ],
   "source": [
    "# let's create a variable named 'age' and it's value is 24 which is a integer(int) number \n",
    "age = 24\n",
    "\n",
    "# check its data type\n",
    "print(type(age))\n",
    "\n",
    "# let'ts modify the vaiable .\n",
    "five_years_later_age = age + 5\n",
    "print(\"Five years later your age will be: \" + str(five_years_later_age) + \" years\")\n"
   ]
  },
  {
   "cell_type": "markdown",
   "id": "85c962f1",
   "metadata": {},
   "source": [
    "#### Explanation of  above code \n",
    "1. we create another variable name `five_years_later_age` which is actually added 5 with our `age` vaiable\n",
    "2. And in the next line used `str()` function to convert integer(`int`) value to string(`str`) to concatenate string and number\n",
    "3. `+` singed used to concatenate. Remember when you concatenate something, make sure all the data types should be same types"
   ]
  },
  {
   "cell_type": "markdown",
   "id": "38ed929a",
   "metadata": {},
   "source": [
    "#### Float(float)"
   ]
  },
  {
   "cell_type": "code",
   "execution_count": 20,
   "id": "8ba01e48",
   "metadata": {
    "scrolled": true
   },
   "outputs": [
    {
     "name": "stdout",
     "output_type": "stream",
     "text": [
      "<class 'float'>\n"
     ]
    }
   ],
   "source": [
    "weight = 68.4\n",
    "print(type(weight))"
   ]
  },
  {
   "cell_type": "markdown",
   "id": "c141683a",
   "metadata": {},
   "source": [
    "#### Complex(complex)"
   ]
  },
  {
   "cell_type": "code",
   "execution_count": 25,
   "id": "5801fc8a",
   "metadata": {},
   "outputs": [
    {
     "name": "stdout",
     "output_type": "stream",
     "text": [
      "<class 'complex'>\n",
      "4.0\n",
      "7.0\n"
     ]
    }
   ],
   "source": [
    "z = 4 + 7j\n",
    "print(type(z))\n",
    "# real part of the `z`\n",
    "print(z.real)\n",
    "# imginary part of the `z`\n",
    "print(z.imag)"
   ]
  },
  {
   "cell_type": "markdown",
   "id": "07125e24",
   "metadata": {},
   "source": [
    "### Create a BMI(Body Mass Index) calculator\n",
    "**A BMI calculator is a program that calculates a person’s body mass index (BMI) based on their weight and height. BMI is a measure of body fatness that can indicate a person’s health status**\n",
    "\n",
    "To build a BMI calculator in Python, you need to:\n",
    "\n",
    "- Ask the user for their weight and height (`input()` **function used to take input from user**)\n",
    "- Convert the weight and height to kilograms and meters\n",
    "- Calculate the BMI using the formula: BMI = weight / (height)**2\n",
    "- Display the BMI value and category\n",
    "\n"
   ]
  },
  {
   "cell_type": "code",
   "execution_count": null,
   "id": "212b0248",
   "metadata": {},
   "outputs": [],
   "source": [
    "# Ask for weight and height\n",
    "# input() function used to take input from user. By defalut input() function take input as string so we have to\n",
    "# convert string to number to do our mathematical operation. that's why we've convert it to float\n",
    "weight = float(input(\"Enter your weight in kg: \"))\n",
    "height = float(input(\"Enter your height in cm: \"))\n",
    "\n",
    "# Convert height to meters\n",
    "height = height / 100\n",
    "\n",
    "# Calculate BMI\n",
    "bmi = weight / (height)**2\n",
    "\n",
    "# Display BMI value\n",
    "print(\"Your BMI is\", round(bmi, 2))\n",
    "\n",
    "# Display BMI category\n",
    "# '<' - known as less than operator in mathematics\n",
    "# '>' - known as greater tha\n",
    "# '==' - equal to comparison  \n",
    "if bmi < 18.5:\n",
    "    print(\"You are underweight.\")\n",
    "elif bmi < 25:\n",
    "    print(\"You have a normal weight.\")\n",
    "elif bmi < 30:\n",
    "    print(\"You are overweight.\")\n",
    "else:\n",
    "    print(\"You are obese.\")"
   ]
  },
  {
   "cell_type": "markdown",
   "id": "ac417485",
   "metadata": {},
   "source": [
    "#### String\n",
    "- String should be in enclosed with either single quote(' ') or double quote (\" \")\n",
    "- And don't mixed up with single and double quote cause it'll raise SyntaxError"
   ]
  },
  {
   "cell_type": "code",
   "execution_count": 31,
   "id": "02480dfd",
   "metadata": {},
   "outputs": [
    {
     "name": "stdout",
     "output_type": "stream",
     "text": [
      "<class 'str'>\n",
      "One of the greatest of mind on 21st century : Nikola Tesla\n"
     ]
    }
   ],
   "source": [
    "first_name = \"Nikola\"\n",
    "print(type(first_name))\n",
    "last_name = \"Tesla\"ha\n",
    "full_name = first_name+ \" \"+last_name\n",
    "print(\"One of the greatest of mind on 21st century : \"+ full_name)"
   ]
  },
  {
   "cell_type": "markdown",
   "id": "6a3b5b95",
   "metadata": {},
   "source": [
    "### dir()\n",
    "**`dir()`function is one of the great useful python built in function. `dir()` function returns all properties and methods of the specified object, without the values.**"
   ]
  },
  {
   "cell_type": "code",
   "execution_count": 34,
   "id": "cbe8ff49",
   "metadata": {},
   "outputs": [
    {
     "name": "stdout",
     "output_type": "stream",
     "text": [
      "['__add__', '__class__', '__contains__', '__delattr__', '__dir__', '__doc__', '__eq__', '__format__', '__ge__', '__getattribute__', '__getitem__', '__getnewargs__', '__gt__', '__hash__', '__init__', '__init_subclass__', '__iter__', '__le__', '__len__', '__lt__', '__mod__', '__mul__', '__ne__', '__new__', '__reduce__', '__reduce_ex__', '__repr__', '__rmod__', '__rmul__', '__setattr__', '__sizeof__', '__str__', '__subclasshook__', 'capitalize', 'casefold', 'center', 'count', 'encode', 'endswith', 'expandtabs', 'find', 'format', 'format_map', 'index', 'isalnum', 'isalpha', 'isascii', 'isdecimal', 'isdigit', 'isidentifier', 'islower', 'isnumeric', 'isprintable', 'isspace', 'istitle', 'isupper', 'join', 'ljust', 'lower', 'lstrip', 'maketrans', 'partition', 'removeprefix', 'removesuffix', 'replace', 'rfind', 'rindex', 'rjust', 'rpartition', 'rsplit', 'rstrip', 'split', 'splitlines', 'startswith', 'strip', 'swapcase', 'title', 'translate', 'upper', 'zfill']\n"
     ]
    }
   ],
   "source": [
    "print(dir(first_name))"
   ]
  },
  {
   "cell_type": "code",
   "execution_count": 41,
   "id": "b3aefd44",
   "metadata": {},
   "outputs": [
    {
     "name": "stdout",
     "output_type": "stream",
     "text": [
      "nikola\n",
      "NIKOLA\n",
      "nIKOLA\n"
     ]
    }
   ],
   "source": [
    "# convert the name to lower case\n",
    "print(first_name.lower())\n",
    "# convert the name in uppercase\n",
    "print(first_name.upper())\n",
    "# swap the variable\n",
    "print(first_name.swapcase())\n"
   ]
  },
  {
   "cell_type": "markdown",
   "id": "219355db",
   "metadata": {},
   "source": [
    "####  Tryout with the following string methods/attributes\n",
    "`\n",
    "'capitalize', 'casefold', 'center', 'count', 'encode', 'endswith', 'expandtabs', 'find', 'format', 'format_map', 'index',\n",
    "'isalnum', 'isalpha', 'isascii', 'isdecimal', 'isdigit', 'isidentifier', 'islower', 'isnumeric', 'isprintable', \n",
    "'isspace', 'istitle', 'isupper', 'join', 'ljust', 'lower', 'lstrip', 'maketrans', 'partition', 'removeprefix', 'removesuffix',\n",
    "'replace', 'rfind', 'rindex', 'rjust', 'rpartition', 'rsplit', 'rstrip', 'split', 'splitlines', 'startswith', 'strip',\n",
    "'swapcase', 'title', 'translate', 'upper', 'zfill'\n",
    "`"
   ]
  },
  {
   "cell_type": "markdown",
   "id": "71ef9ef3",
   "metadata": {},
   "source": [
    "#### Bolean\n",
    "- True (Anything rather than 0)\n",
    "- False (Anything with 0 or empty value)"
   ]
  },
  {
   "cell_type": "code",
   "execution_count": 44,
   "id": "f6cf886b",
   "metadata": {},
   "outputs": [
    {
     "name": "stdout",
     "output_type": "stream",
     "text": [
      "True\n",
      "<class 'bool'>\n",
      "['__abs__', '__add__', '__and__', '__bool__', '__ceil__', '__class__', '__delattr__', '__dir__', '__divmod__', '__doc__', '__eq__', '__float__', '__floor__', '__floordiv__', '__format__', '__ge__', '__getattribute__', '__getnewargs__', '__gt__', '__hash__', '__index__', '__init__', '__init_subclass__', '__int__', '__invert__', '__le__', '__lshift__', '__lt__', '__mod__', '__mul__', '__ne__', '__neg__', '__new__', '__or__', '__pos__', '__pow__', '__radd__', '__rand__', '__rdivmod__', '__reduce__', '__reduce_ex__', '__repr__', '__rfloordiv__', '__rlshift__', '__rmod__', '__rmul__', '__ror__', '__round__', '__rpow__', '__rrshift__', '__rshift__', '__rsub__', '__rtruediv__', '__rxor__', '__setattr__', '__sizeof__', '__str__', '__sub__', '__subclasshook__', '__truediv__', '__trunc__', '__xor__', 'as_integer_ratio', 'bit_count', 'bit_length', 'conjugate', 'denominator', 'from_bytes', 'imag', 'numerator', 'real', 'to_bytes']\n"
     ]
    }
   ],
   "source": [
    "is_raining = True\n",
    "are_you_female = False\n",
    "print(is_raining)\n",
    "print(type(are_you_female))\n",
    "print(dir(are_you_female))"
   ]
  },
  {
   "cell_type": "code",
   "execution_count": 50,
   "id": "7bcf52d3",
   "metadata": {},
   "outputs": [
    {
     "name": "stdout",
     "output_type": "stream",
     "text": [
      "Are they same ages? False\n"
     ]
    }
   ],
   "source": [
    "zara_age = 22\n",
    "sara_age = 23\n",
    "# compare their age are they same or not\n",
    "# '==' used to compare values in both side wheather they are equal or not\n",
    "print(\"Are they same ages? \" + str(zara_age==sara_age))"
   ]
  },
  {
   "cell_type": "markdown",
   "id": "d4e641e5",
   "metadata": {},
   "source": []
  }
 ],
 "metadata": {
  "kernelspec": {
   "display_name": "Python 3 (ipykernel)",
   "language": "python",
   "name": "python3"
  },
  "language_info": {
   "codemirror_mode": {
    "name": "ipython",
    "version": 3
   },
   "file_extension": ".py",
   "mimetype": "text/x-python",
   "name": "python",
   "nbconvert_exporter": "python",
   "pygments_lexer": "ipython3",
   "version": "3.11.2"
  }
 },
 "nbformat": 4,
 "nbformat_minor": 5
}
