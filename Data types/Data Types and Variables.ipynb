{
 "cells": [
  {
   "cell_type": "markdown",
   "id": "0b9069d2",
   "metadata": {},
   "source": [
    "### `Data Types:` The data type of an item defines the type and range of values that item can have.\n",
    "\n",
    "* Number\n",
    "    * Integer\n",
    "    * Float\n",
    "    * Complex\n",
    "* String \n",
    "* Boolean\n"
   ]
  },
  {
   "cell_type": "markdown",
   "id": "f94f9577",
   "metadata": {},
   "source": [
    "### `Variables:` A variable is simply a name to which a value can be assigned.\n",
    "> The simplest way to assign a value to a variable is through the `=` operator.\n",
    "Variables are `mutable`. Hence, the value of a variable can always be updated or replaced.\n",
    "\n",
    "\n",
    "\n",
    "\n"
   ]
  },
  {
   "cell_type": "markdown",
   "id": "2f9704f1",
   "metadata": {},
   "source": [
    "### Naming Convention\n",
    "#### There are certain rules we have to follow when picking the name for a variable:\n",
    "\n",
    "1. The name can start with an upper or lower case alphabet.\n",
    "\n",
    "> For example, you can define your income variable as `Income` or `income`, both are valid.\n",
    "\n",
    "2. All the names are case sensitive.\n",
    "\n",
    "> For example, `Income` and `income` are two different variables and not one.\n",
    "\n",
    "3. A number can appear in the name, but not at the beginning.\n",
    "\n",
    "> For example, `12income` is not a valid name but `income12` or `in12come` are valid.\n",
    "\n",
    "4. The _ character can appear anywhere in the name.\n",
    "\n",
    "> For example, `_income` or `income_` are valid names.\n",
    "\n",
    "5. Spaces are not allowed. Instead, we must use snake_case to make variable names readable.\n",
    "\n",
    "> For example, `monthly_income` is a valid name.\n",
    "\n",
    "6. The name of the variable should be something meaningful that describes the value it holds, instead of being random characters.\n",
    "\n",
    "> For example, `inc` or even `income` would not give any useful information but names like `weekly_income`, `monthly_income`, or `annual_income` explain the purpose of our defined variable"
   ]
  },
  {
   "cell_type": "markdown",
   "id": "5c96a392",
   "metadata": {},
   "source": [
    "### Integers\n",
    "\n"
   ]
  },
  {
   "cell_type": "code",
   "execution_count": null,
   "id": "0161f7c6",
   "metadata": {},
   "outputs": [],
   "source": [
    "# A positive integ\n",
    "\n",
    "# A negative integer\n",
    "\n",
    "# Assigning an integer to a variable\n",
    "\n",
    "# Assigning a new integer\n"
   ]
  },
  {
   "cell_type": "code",
   "execution_count": 4,
   "id": "58c69e30",
   "metadata": {},
   "outputs": [
    {
     "data": {
      "text/plain": [
       "24"
      ]
     },
     "execution_count": 4,
     "metadata": {},
     "output_type": "execute_result"
    }
   ],
   "source": [
    "# type of that data type\n",
    "\n",
    "# size of that data type\n",
    "import sys\n",
    "dir(sys)\n",
    "sys.getsizeof(())"
   ]
  },
  {
   "cell_type": "code",
   "execution_count": null,
   "id": "9fc7dec9",
   "metadata": {},
   "outputs": [],
   "source": []
  }
 ],
 "metadata": {
  "kernelspec": {
   "display_name": "Python 3 (ipykernel)",
   "language": "python",
   "name": "python3"
  },
  "language_info": {
   "codemirror_mode": {
    "name": "ipython",
    "version": 3
   },
   "file_extension": ".py",
   "mimetype": "text/x-python",
   "name": "python",
   "nbconvert_exporter": "python",
   "pygments_lexer": "ipython3",
   "version": "3.10.6"
  }
 },
 "nbformat": 4,
 "nbformat_minor": 5
}
