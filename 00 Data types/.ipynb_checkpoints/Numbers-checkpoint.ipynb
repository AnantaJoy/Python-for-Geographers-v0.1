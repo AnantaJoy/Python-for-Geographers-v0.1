{
 "cells": [
  {
   "cell_type": "code",
   "execution_count": 1,
   "id": "e546a288",
   "metadata": {},
   "outputs": [
    {
     "data": {
      "text/plain": [
       "int"
      ]
     },
     "execution_count": 1,
     "metadata": {},
     "output_type": "execute_result"
    }
   ],
   "source": [
    "age = 24\n",
    "type(age)"
   ]
  },
  {
   "cell_type": "code",
   "execution_count": 2,
   "id": "9db50bf7",
   "metadata": {},
   "outputs": [
    {
     "data": {
      "text/plain": [
       "float"
      ]
     },
     "execution_count": 2,
     "metadata": {},
     "output_type": "execute_result"
    }
   ],
   "source": [
    "weight = 68.8\n",
    "type(weight)"
   ]
  },
  {
   "cell_type": "markdown",
   "id": "4264404d",
   "metadata": {},
   "source": [
    "### Basic Operations\n"
   ]
  },
  {
   "cell_type": "code",
   "execution_count": 3,
   "id": "239bf07a",
   "metadata": {},
   "outputs": [
    {
     "name": "stdout",
     "output_type": "stream",
     "text": [
      "1.5\n",
      "1\n",
      "1\n",
      "9\n"
     ]
    }
   ],
   "source": [
    "def MathOp():\n",
    "  \n",
    "  classic_division = 3/2 ## Calculate 3/2 here\n",
    "  floor_division = 3//2 ## Calculate 3//2 here\n",
    "  modulus = 3%2 ## Calculate 3%2 here \n",
    "  power = 3**2 ## Calculate 3**2 here\n",
    "  ## Returning the calculations for evaluation\n",
    "  return [classic_division, floor_division, modulus, power]\n",
    "\n",
    "[classic_division, floor_division, modulus, power]=MathOp()\n",
    "print(classic_division)\n",
    "print(floor_division)\n",
    "print(modulus)\n",
    "print(power)"
   ]
  },
  {
   "cell_type": "markdown",
   "id": "e28a4c06",
   "metadata": {},
   "source": [
    "### Odd or Even Number"
   ]
  },
  {
   "cell_type": "code",
   "execution_count": 4,
   "id": "2e675c12",
   "metadata": {},
   "outputs": [
    {
     "name": "stdout",
     "output_type": "stream",
     "text": [
      "Odd parity 1\n",
      "Even parity 0\n"
     ]
    }
   ],
   "source": [
    "def checkParity(n):\n",
    "  result = (n % 2)\n",
    "  return result\n",
    "  \n",
    "print(\"Odd parity\", checkParity(17))\n",
    "print(\"Even parity\", checkParity(16))"
   ]
  },
  {
   "cell_type": "code",
   "execution_count": 5,
   "id": "e85afb30",
   "metadata": {},
   "outputs": [
    {
     "name": "stdout",
     "output_type": "stream",
     "text": [
      "True\n",
      "False\n"
     ]
    }
   ],
   "source": [
    "def inRange(x, y):\n",
    "  return (x < 1/3 < y)\n",
    "\n",
    "print(inRange(-1, 3))\n",
    "print(inRange(2, 3))"
   ]
  },
  {
   "cell_type": "code",
   "execution_count": null,
   "id": "c3c2f219",
   "metadata": {},
   "outputs": [],
   "source": []
  }
 ],
 "metadata": {
  "kernelspec": {
   "display_name": "Python 3 (ipykernel)",
   "language": "python",
   "name": "python3"
  },
  "language_info": {
   "codemirror_mode": {
    "name": "ipython",
    "version": 3
   },
   "file_extension": ".py",
   "mimetype": "text/x-python",
   "name": "python",
   "nbconvert_exporter": "python",
   "pygments_lexer": "ipython3",
   "version": "3.10.6"
  }
 },
 "nbformat": 4,
 "nbformat_minor": 5
}
