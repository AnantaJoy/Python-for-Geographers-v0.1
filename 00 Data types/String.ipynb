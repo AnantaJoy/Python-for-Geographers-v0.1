{
 "cells": [
  {
   "cell_type": "markdown",
   "id": "f19b19ab",
   "metadata": {},
   "source": [
    "`Strings are sequences of characters (like words)`"
   ]
  },
  {
   "cell_type": "code",
   "execution_count": 1,
   "id": "ca5ffcf7",
   "metadata": {},
   "outputs": [
    {
     "name": "stdout",
     "output_type": "stream",
     "text": [
      "hello\n",
      "goodbye\n"
     ]
    }
   ],
   "source": [
    "hi = \"hello\" # string within double quotes\n",
    "print(hi)\n",
    "\n",
    "bye = 'goodbye' # string within single quote\n",
    "print(bye)\n"
   ]
  },
  {
   "cell_type": "code",
   "execution_count": 2,
   "id": "4d315021",
   "metadata": {},
   "outputs": [
    {
     "name": "stdout",
     "output_type": "stream",
     "text": [
      "helloworld\n"
     ]
    }
   ],
   "source": [
    "hi = \"hello\"\n",
    "hi += \"world\"\n",
    "print(hi)\n"
   ]
  },
  {
   "cell_type": "code",
   "execution_count": 3,
   "id": "30be00e1",
   "metadata": {},
   "outputs": [
    {
     "name": "stdout",
     "output_type": "stream",
     "text": [
      "HelloHelloHello\n"
     ]
    }
   ],
   "source": [
    "print(\"Hello\" * 3)"
   ]
  },
  {
   "cell_type": "code",
   "execution_count": 4,
   "id": "cd578bff",
   "metadata": {},
   "outputs": [
    {
     "data": {
      "text/plain": [
       "('helloworld', 'goodbye')"
      ]
     },
     "execution_count": 4,
     "metadata": {},
     "output_type": "execute_result"
    }
   ],
   "source": [
    "hi,bye"
   ]
  },
  {
   "cell_type": "markdown",
   "id": "c1fa9618",
   "metadata": {},
   "source": [
    "## Find some particular string"
   ]
  },
  {
   "cell_type": "code",
   "execution_count": 7,
   "id": "47c7fd62",
   "metadata": {},
   "outputs": [
    {
     "data": {
      "text/plain": [
       "[0, 5]"
      ]
     },
     "execution_count": 7,
     "metadata": {},
     "output_type": "execute_result"
    }
   ],
   "source": [
    "def findOccurence(s):\n",
    "  a = s.find(\"b\") # find first occurrence of \"b\" in the string \n",
    "  b = s.find(\"ccc\") # find first occurence  of \"ccc\" in the string\n",
    "  return [a, b]\n",
    "findOccurence('babbbcccd')"
   ]
  },
  {
   "cell_type": "markdown",
   "id": "4390fdb4",
   "metadata": {},
   "source": [
    "### Upper Lower case"
   ]
  },
  {
   "cell_type": "code",
   "execution_count": 8,
   "id": "a01074ac",
   "metadata": {},
   "outputs": [
    {
     "name": "stdout",
     "output_type": "stream",
     "text": [
      "['AAA BBB CCC', 'aaa bbb ccc']\n"
     ]
    }
   ],
   "source": [
    "def changeCase(s):\n",
    "  a = s.upper()  # convert string to \"AAA BBB CCC\"\n",
    "  b = s.lower()  # convert string to \"aaa bbb ccc\"\n",
    "  return [a, b]\n",
    "\n",
    "str = \"AAA bbb CCC\"\n",
    "print(changeCase(str))"
   ]
  },
  {
   "cell_type": "code",
   "execution_count": null,
   "id": "60f740d3",
   "metadata": {},
   "outputs": [],
   "source": []
  }
 ],
 "metadata": {
  "kernelspec": {
   "display_name": "Python 3 (ipykernel)",
   "language": "python",
   "name": "python3"
  },
  "language_info": {
   "codemirror_mode": {
    "name": "ipython",
    "version": 3
   },
   "file_extension": ".py",
   "mimetype": "text/x-python",
   "name": "python",
   "nbconvert_exporter": "python",
   "pygments_lexer": "ipython3",
   "version": "3.10.6"
  }
 },
 "nbformat": 4,
 "nbformat_minor": 5
}
