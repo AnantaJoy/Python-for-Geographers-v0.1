{
 "cells": [
  {
   "cell_type": "markdown",
   "id": "4cded02d",
   "metadata": {},
   "source": [
    "`A string is a sequence of characters`"
   ]
  },
  {
   "cell_type": "markdown",
   "id": "714b68da",
   "metadata": {},
   "source": [
    "`Indexing`"
   ]
  },
  {
   "cell_type": "markdown",
   "id": "7358fee9",
   "metadata": {},
   "source": [
    "`Slicing`"
   ]
  },
  {
   "cell_type": "code",
   "execution_count": null,
   "id": "10bc892f",
   "metadata": {},
   "outputs": [],
   "source": [
    "# length of a sting"
   ]
  },
  {
   "cell_type": "markdown",
   "id": "beee0bf6",
   "metadata": {},
   "source": [
    "`immutable`"
   ]
  },
  {
   "cell_type": "markdown",
   "id": "e7cf2444",
   "metadata": {},
   "source": [
    "`in` operator"
   ]
  },
  {
   "cell_type": "code",
   "execution_count": 16,
   "id": "9ad8deef",
   "metadata": {},
   "outputs": [
    {
     "data": {
      "text/plain": [
       "2"
      ]
     },
     "execution_count": 16,
     "metadata": {},
     "output_type": "execute_result"
    }
   ],
   "source": [
    "# word counting in a string\n",
    "\n",
    "def vowel_count(string):\n",
    "    count = 0\n",
    "    for word in string.lower():\n",
    "        if word in 'aeiou':\n",
    "            count += 1\n",
    "    return count\n",
    "vowel_count(\"hello\")"
   ]
  },
  {
   "cell_type": "markdown",
   "id": "3c734c84",
   "metadata": {},
   "source": [
    "`dir`"
   ]
  },
  {
   "cell_type": "markdown",
   "id": "8a23f1b8",
   "metadata": {},
   "source": [
    "`Format Operator`\n",
    "* %d\n",
    "* %g\n",
    "* %s"
   ]
  },
  {
   "cell_type": "code",
   "execution_count": 17,
   "id": "4a5fa1a1",
   "metadata": {},
   "outputs": [
    {
     "data": {
      "text/plain": [
       "'24'"
      ]
     },
     "execution_count": 17,
     "metadata": {},
     "output_type": "execute_result"
    }
   ],
   "source": [
    "age = 24\n",
    "'%d' % age"
   ]
  },
  {
   "cell_type": "code",
   "execution_count": 18,
   "id": "b892830e",
   "metadata": {},
   "outputs": [
    {
     "data": {
      "text/plain": [
       "\"I'm 24 now\""
      ]
     },
     "execution_count": 18,
     "metadata": {},
     "output_type": "execute_result"
    }
   ],
   "source": [
    "\"I'm %d now\" %age"
   ]
  },
  {
   "cell_type": "code",
   "execution_count": null,
   "id": "4a07442c",
   "metadata": {},
   "outputs": [],
   "source": []
  }
 ],
 "metadata": {
  "kernelspec": {
   "display_name": "Python 3 (ipykernel)",
   "language": "python",
   "name": "python3"
  },
  "language_info": {
   "codemirror_mode": {
    "name": "ipython",
    "version": 3
   },
   "file_extension": ".py",
   "mimetype": "text/x-python",
   "name": "python",
   "nbconvert_exporter": "python",
   "pygments_lexer": "ipython3",
   "version": "3.11.2"
  }
 },
 "nbformat": 4,
 "nbformat_minor": 5
}
