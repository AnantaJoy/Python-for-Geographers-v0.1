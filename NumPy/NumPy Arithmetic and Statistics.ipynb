{
 "cells": [
  {
   "cell_type": "code",
   "execution_count": 6,
   "metadata": {},
   "outputs": [
    {
     "data": {
      "text/plain": [
       "array([7, 8, 7, 8, 3])"
      ]
     },
     "execution_count": 6,
     "metadata": {},
     "output_type": "execute_result"
    }
   ],
   "source": [
    "import numpy as np\n",
    "\n",
    "arr = np.random.randint(10,size=(5))\n",
    "arr"
   ]
  },
  {
   "cell_type": "code",
   "execution_count": 7,
   "metadata": {},
   "outputs": [
    {
     "name": "stdout",
     "output_type": "stream",
     "text": [
      "[12 13 12 13  8]\n",
      "[ 2  3  2  3 -2]\n",
      "[35 40 35 40 15]\n",
      "[1.4 1.6 1.4 1.6 0.6]\n",
      "[1 1 1 1 0]\n",
      "[2 3 2 3 3]\n",
      "[49 64 49 64  9]\n"
     ]
    }
   ],
   "source": [
    "# arithmatic operations\n",
    "print(arr + 5)\n",
    "print(arr - 5)\n",
    "print(arr * 5)\n",
    "print(arr / 5)\n",
    "print(arr // 5)\n",
    "print(arr % 5)\n",
    "print(arr ** 2)\n"
   ]
  },
  {
   "cell_type": "code",
   "execution_count": 8,
   "metadata": {},
   "outputs": [
    {
     "name": "stdout",
     "output_type": "stream",
     "text": [
      "[12 13 12 13  8]\n",
      "[ 2  3  2  3 -2]\n",
      "[35 40 35 40 15]\n",
      "[1.4 1.6 1.4 1.6 0.6]\n",
      "[1 1 1 1 0]\n",
      "[2 3 2 3 3]\n",
      "[49 64 49 64  9]\n"
     ]
    }
   ],
   "source": [
    "# arithmetical operations using ufuncs\n",
    "print(np.add(arr,5))\n",
    "print(np.subtract(arr,5))\n",
    "print(np.multiply(arr,5))\n",
    "print(np.divide(arr,5))\n",
    "print(np.floor_divide(arr,5))\n",
    "print(np.mod(arr,5))\n",
    "print(np.power(arr,2))\n"
   ]
  },
  {
   "cell_type": "code",
   "execution_count": 9,
   "metadata": {},
   "outputs": [
    {
     "name": "stdout",
     "output_type": "stream",
     "text": [
      "[0.6569866  0.98935825 0.6569866  0.98935825 0.14112001]\n"
     ]
    }
   ],
   "source": [
    "# trigonometric functions\n",
    "print(np.sin(arr))"
   ]
  },
  {
   "cell_type": "code",
   "execution_count": 10,
   "metadata": {},
   "outputs": [
    {
     "name": "stdout",
     "output_type": "stream",
     "text": [
      "[1.94591015 2.07944154 1.94591015 2.07944154 1.09861229]\n",
      "[1096.63315843 2980.95798704 1096.63315843 2980.95798704   20.08553692]\n"
     ]
    }
   ],
   "source": [
    "# logarithmic functions and exponential functions\n",
    "print(np.log(arr))\n",
    "print(np.exp(arr))\n"
   ]
  },
  {
   "cell_type": "code",
   "execution_count": 12,
   "metadata": {},
   "outputs": [
    {
     "name": "stdout",
     "output_type": "stream",
     "text": [
      "10\n"
     ]
    },
    {
     "data": {
      "text/plain": [
       "10"
      ]
     },
     "execution_count": 12,
     "metadata": {},
     "output_type": "execute_result"
    }
   ],
   "source": [
    "arr2 = np.arange(1,5)\n",
    "print(np.sum(arr2))\n",
    "np.add.reduce(arr2)"
   ]
  },
  {
   "cell_type": "code",
   "execution_count": 13,
   "metadata": {},
   "outputs": [
    {
     "name": "stdout",
     "output_type": "stream",
     "text": [
      "[ 1  3  6 10 15]\n",
      "[ 1  3  6 10 15]\n"
     ]
    }
   ],
   "source": [
    "# accumulation functions\n",
    "arr3 = np.arange(1,6)\n",
    "print(np.cumsum(arr3))\n",
    "print(np.add.accumulate(arr3))"
   ]
  },
  {
   "cell_type": "code",
   "execution_count": 14,
   "metadata": {},
   "outputs": [
    {
     "name": "stdout",
     "output_type": "stream",
     "text": [
      "Sum of arr4:  242\n",
      "Mean of arr4:  4.84\n",
      "Median of arr4:  4.5\n",
      "Standard Deviation of arr4:  2.9145153971114994\n",
      "Variance of arr4:  8.4944\n",
      "Minimum of arr4:  0\n",
      "Maximum of arr4:  9\n",
      "Percentile of arr4:  4.5\n"
     ]
    }
   ],
   "source": [
    "# summary statistics\n",
    "arr4 = np.random.randint(10,size=(50))\n",
    "print(\"Sum of arr4: \",np.sum(arr4))\n",
    "print(\"Mean of arr4: \",np.mean(arr4))\n",
    "print(\"Median of arr4: \",np.median(arr4))\n",
    "print(\"Standard Deviation of arr4: \",np.std(arr4))\n",
    "print(\"Variance of arr4: \",np.var(arr4))\n",
    "print(\"Minimum of arr4: \",np.min(arr4))\n",
    "print(\"Maximum of arr4: \",np.max(arr4))\n",
    "print(\"Percentile of arr4: \",np.percentile(arr4,50))\n"
   ]
  },
  {
   "cell_type": "code",
   "execution_count": 18,
   "metadata": {},
   "outputs": [
    {
     "name": "stdout",
     "output_type": "stream",
     "text": [
      "[2 5 3 5 2 7 1 3 1 2]\n",
      "[False False False False False  True False False False False]\n"
     ]
    }
   ],
   "source": [
    "# boolean operations\n",
    "arr5 = np.random.randint(10,size=(10))\n",
    "print(arr5)\n",
    "print(arr5>5)"
   ]
  },
  {
   "attachments": {},
   "cell_type": "markdown",
   "metadata": {},
   "source": [
    "`any()` `all()`"
   ]
  },
  {
   "cell_type": "code",
   "execution_count": 19,
   "metadata": {},
   "outputs": [
    {
     "name": "stdout",
     "output_type": "stream",
     "text": [
      "[0 1 2 3 4 5 6 7 8 9]\n",
      "True\n",
      "False\n"
     ]
    }
   ],
   "source": [
    "arr6 = np.arange(0,10)\n",
    "print(arr6)\n",
    "print(np.any(arr6>5))\n",
    "print(np.all(arr6>5))"
   ]
  },
  {
   "cell_type": "code",
   "execution_count": 29,
   "metadata": {},
   "outputs": [
    {
     "name": "stdout",
     "output_type": "stream",
     "text": [
      "[[False  True False]\n",
      " [ True  True  True]\n",
      " [ True  True False]]\n",
      "[9 6 6 6 8 9]\n"
     ]
    }
   ],
   "source": [
    "arr7 = np.random.randint(0,10, (3,3))\n",
    "print(arr7>5)\n",
    "print(arr7[arr7>5])"
   ]
  },
  {
   "cell_type": "code",
   "execution_count": null,
   "metadata": {},
   "outputs": [],
   "source": []
  }
 ],
 "metadata": {
  "kernelspec": {
   "display_name": "Python 3",
   "language": "python",
   "name": "python3"
  },
  "language_info": {
   "codemirror_mode": {
    "name": "ipython",
    "version": 3
   },
   "file_extension": ".py",
   "mimetype": "text/x-python",
   "name": "python",
   "nbconvert_exporter": "python",
   "pygments_lexer": "ipython3",
   "version": "3.10.6"
  },
  "orig_nbformat": 4
 },
 "nbformat": 4,
 "nbformat_minor": 2
}
