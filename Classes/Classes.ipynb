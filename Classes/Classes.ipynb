{
 "cells": [
  {
   "cell_type": "code",
   "execution_count": 2,
   "id": "84bfe228",
   "metadata": {},
   "outputs": [
    {
     "data": {
      "text/plain": [
       "'BG108'"
      ]
     },
     "execution_count": 2,
     "metadata": {},
     "output_type": "execute_result"
    }
   ],
   "source": [
    "# define a class\n",
    "\n",
    "class Flight:\n",
    "#     initializer\n",
    "    def __init__(self,number):\n",
    "        self._number = number\n",
    "        \n",
    "    def name(self):\n",
    "        return \"BG108\"\n",
    "\n",
    "f = Flight()\n",
    "f.flight_no()"
   ]
  },
  {
   "cell_type": "markdown",
   "id": "e42f4be5",
   "metadata": {},
   "source": [
    "* object\n",
    "* docstring\n",
    "* __init__\n",
    "* __name__ = __name__\n",
    "* Polymorphism \n",
    "* Inheritance \n",
    "* Encapsulation\n",
    "* Abstraction"
   ]
  },
  {
   "cell_type": "code",
   "execution_count": null,
   "id": "59181391",
   "metadata": {},
   "outputs": [],
   "source": []
  }
 ],
 "metadata": {
  "kernelspec": {
   "display_name": "Python 3 (ipykernel)",
   "language": "python",
   "name": "python3"
  },
  "language_info": {
   "codemirror_mode": {
    "name": "ipython",
    "version": 3
   },
   "file_extension": ".py",
   "mimetype": "text/x-python",
   "name": "python",
   "nbconvert_exporter": "python",
   "pygments_lexer": "ipython3",
   "version": "3.11.2"
  }
 },
 "nbformat": 4,
 "nbformat_minor": 5
}
