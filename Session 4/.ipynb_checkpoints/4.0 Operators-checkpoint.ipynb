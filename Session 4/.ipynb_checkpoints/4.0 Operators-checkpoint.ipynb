{
 "cells": [
  {
   "cell_type": "code",
   "execution_count": null,
   "id": "198ee732",
   "metadata": {},
   "outputs": [],
   "source": [
    "# Modulo: returns the remainder or signed remainder of a division\n"
   ]
  },
  {
   "cell_type": "code",
   "execution_count": 4,
   "id": "9a6a6eb2",
   "metadata": {},
   "outputs": [
    {
     "data": {
      "text/plain": [
       "2.718281828459045"
      ]
     },
     "execution_count": 4,
     "metadata": {},
     "output_type": "execute_result"
    }
   ],
   "source": [
    "# Exponential \n",
    "import math\n",
    "math.e"
   ]
  },
  {
   "cell_type": "code",
   "execution_count": 5,
   "id": "d137216c",
   "metadata": {},
   "outputs": [],
   "source": [
    "# explore math library"
   ]
  },
  {
   "cell_type": "code",
   "execution_count": null,
   "id": "879381f7",
   "metadata": {},
   "outputs": [],
   "source": [
    "# floor division"
   ]
  },
  {
   "cell_type": "code",
   "execution_count": 6,
   "id": "6711e0a0",
   "metadata": {},
   "outputs": [],
   "source": [
    "# Equal to and not equal tob"
   ]
  },
  {
   "cell_type": "code",
   "execution_count": null,
   "id": "bb195ac9",
   "metadata": {},
   "outputs": [],
   "source": [
    "# >, <, <=, >=, "
   ]
  },
  {
   "cell_type": "code",
   "execution_count": 8,
   "id": "ad0f65a2",
   "metadata": {},
   "outputs": [
    {
     "data": {
      "text/plain": [
       "6"
      ]
     },
     "execution_count": 8,
     "metadata": {},
     "output_type": "execute_result"
    }
   ],
   "source": [
    "# Boolean operator and, or, not\n"
   ]
  },
  {
   "cell_type": "code",
   "execution_count": null,
   "id": "2527f699",
   "metadata": {},
   "outputs": [],
   "source": [
    "# +=, -=, /=, *= "
   ]
  }
 ],
 "metadata": {
  "kernelspec": {
   "display_name": "Python 3 (ipykernel)",
   "language": "python",
   "name": "python3"
  },
  "language_info": {
   "codemirror_mode": {
    "name": "ipython",
    "version": 3
   },
   "file_extension": ".py",
   "mimetype": "text/x-python",
   "name": "python",
   "nbconvert_exporter": "python",
   "pygments_lexer": "ipython3",
   "version": "3.10.6"
  }
 },
 "nbformat": 4,
 "nbformat_minor": 5
}
