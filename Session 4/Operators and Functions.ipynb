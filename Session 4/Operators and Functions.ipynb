{
 "cells": [
  {
   "cell_type": "code",
   "execution_count": 2,
   "id": "c60145a5",
   "metadata": {},
   "outputs": [
    {
     "data": {
      "text/plain": [
       "16"
      ]
     },
     "execution_count": 2,
     "metadata": {},
     "output_type": "execute_result"
    }
   ],
   "source": [
    "# expression\n",
    "x = 10 + 6\n",
    "x"
   ]
  },
  {
   "cell_type": "code",
   "execution_count": 3,
   "id": "8898fcc6",
   "metadata": {},
   "outputs": [
    {
     "data": {
      "text/plain": [
       "1"
      ]
     },
     "execution_count": 3,
     "metadata": {},
     "output_type": "execute_result"
    }
   ],
   "source": [
    "# modulus\n",
    "m = 10%3\n",
    "m"
   ]
  },
  {
   "cell_type": "code",
   "execution_count": 6,
   "id": "b26eb86d",
   "metadata": {},
   "outputs": [
    {
     "data": {
      "text/plain": [
       "2.718281828459045"
      ]
     },
     "execution_count": 6,
     "metadata": {},
     "output_type": "execute_result"
    }
   ],
   "source": [
    "# exponential\n",
    "import math\n",
    "math.e"
   ]
  },
  {
   "cell_type": "code",
   "execution_count": 7,
   "id": "1ff3542d",
   "metadata": {},
   "outputs": [
    {
     "data": {
      "text/plain": [
       "['__doc__',\n",
       " '__loader__',\n",
       " '__name__',\n",
       " '__package__',\n",
       " '__spec__',\n",
       " 'acos',\n",
       " 'acosh',\n",
       " 'asin',\n",
       " 'asinh',\n",
       " 'atan',\n",
       " 'atan2',\n",
       " 'atanh',\n",
       " 'ceil',\n",
       " 'comb',\n",
       " 'copysign',\n",
       " 'cos',\n",
       " 'cosh',\n",
       " 'degrees',\n",
       " 'dist',\n",
       " 'e',\n",
       " 'erf',\n",
       " 'erfc',\n",
       " 'exp',\n",
       " 'expm1',\n",
       " 'fabs',\n",
       " 'factorial',\n",
       " 'floor',\n",
       " 'fmod',\n",
       " 'frexp',\n",
       " 'fsum',\n",
       " 'gamma',\n",
       " 'gcd',\n",
       " 'hypot',\n",
       " 'inf',\n",
       " 'isclose',\n",
       " 'isfinite',\n",
       " 'isinf',\n",
       " 'isnan',\n",
       " 'isqrt',\n",
       " 'lcm',\n",
       " 'ldexp',\n",
       " 'lgamma',\n",
       " 'log',\n",
       " 'log10',\n",
       " 'log1p',\n",
       " 'log2',\n",
       " 'modf',\n",
       " 'nan',\n",
       " 'nextafter',\n",
       " 'perm',\n",
       " 'pi',\n",
       " 'pow',\n",
       " 'prod',\n",
       " 'radians',\n",
       " 'remainder',\n",
       " 'sin',\n",
       " 'sinh',\n",
       " 'sqrt',\n",
       " 'tan',\n",
       " 'tanh',\n",
       " 'tau',\n",
       " 'trunc',\n",
       " 'ulp']"
      ]
     },
     "execution_count": 7,
     "metadata": {},
     "output_type": "execute_result"
    }
   ],
   "source": [
    "dir(math)http://localhost:8888/notebooks/Operators.ipynb#"
   ]
  },
  {
   "cell_type": "code",
   "execution_count": 8,
   "id": "3b6d7aa9",
   "metadata": {},
   "outputs": [
    {
     "data": {
      "text/plain": [
       "2.302585092994046"
      ]
     },
     "execution_count": 8,
     "metadata": {},
     "output_type": "execute_result"
    }
   ],
   "source": [
    "math.log(10)"
   ]
  },
  {
   "cell_type": "code",
   "execution_count": 11,
   "id": "6880ce2f",
   "metadata": {},
   "outputs": [
    {
     "data": {
      "text/plain": [
       "3"
      ]
     },
     "execution_count": 11,
     "metadata": {},
     "output_type": "execute_result"
    }
   ],
   "source": [
    "# floor division\n",
    "7//2"
   ]
  },
  {
   "cell_type": "code",
   "execution_count": 12,
   "id": "e07881bf",
   "metadata": {},
   "outputs": [
    {
     "data": {
      "text/plain": [
       "4"
      ]
     },
     "execution_count": 12,
     "metadata": {},
     "output_type": "execute_result"
    }
   ],
   "source": [
    "math.ceil(7/2)"
   ]
  },
  {
   "cell_type": "code",
   "execution_count": 15,
   "id": "de2e6128",
   "metadata": {},
   "outputs": [
    {
     "data": {
      "text/plain": [
       "True"
      ]
     },
     "execution_count": 15,
     "metadata": {},
     "output_type": "execute_result"
    }
   ],
   "source": [
    "# equal\n",
    "x = 'a'\n",
    "y = 'a'\n",
    "x==y"
   ]
  },
  {
   "cell_type": "code",
   "execution_count": 17,
   "id": "5ee19460",
   "metadata": {},
   "outputs": [
    {
     "data": {
      "text/plain": [
       "False"
      ]
     },
     "execution_count": 17,
     "metadata": {},
     "output_type": "execute_result"
    }
   ],
   "source": [
    "'Apple' == 'Orange'"
   ]
  },
  {
   "cell_type": "code",
   "execution_count": 19,
   "id": "277b644b",
   "metadata": {},
   "outputs": [
    {
     "data": {
      "text/plain": [
       "True"
      ]
     },
     "execution_count": 19,
     "metadata": {},
     "output_type": "execute_result"
    }
   ],
   "source": [
    "51!=52"
   ]
  },
  {
   "cell_type": "code",
   "execution_count": 20,
   "id": "cf455430",
   "metadata": {},
   "outputs": [
    {
     "data": {
      "text/plain": [
       "True"
      ]
     },
     "execution_count": 20,
     "metadata": {},
     "output_type": "execute_result"
    }
   ],
   "source": [
    "# greater than\n",
    "10 > 4"
   ]
  },
  {
   "cell_type": "code",
   "execution_count": 21,
   "id": "07c6639d",
   "metadata": {},
   "outputs": [
    {
     "data": {
      "text/plain": [
       "False"
      ]
     },
     "execution_count": 21,
     "metadata": {},
     "output_type": "execute_result"
    }
   ],
   "source": [
    "10 < 4"
   ]
  },
  {
   "cell_type": "code",
   "execution_count": 22,
   "id": "a2aca812",
   "metadata": {},
   "outputs": [
    {
     "data": {
      "text/plain": [
       "False"
      ]
     },
     "execution_count": 22,
     "metadata": {},
     "output_type": "execute_result"
    }
   ],
   "source": [
    "10 <= 4"
   ]
  },
  {
   "cell_type": "code",
   "execution_count": 25,
   "id": "f4908b99",
   "metadata": {},
   "outputs": [
    {
     "data": {
      "text/plain": [
       "True"
      ]
     },
     "execution_count": 25,
     "metadata": {},
     "output_type": "execute_result"
    }
   ],
   "source": [
    "18 >= 18"
   ]
  },
  {
   "cell_type": "code",
   "execution_count": 30,
   "id": "69c7465c",
   "metadata": {},
   "outputs": [
    {
     "name": "stdout",
     "output_type": "stream",
     "text": [
      "1\n",
      "0\n"
     ]
    }
   ],
   "source": [
    "# Boolean or\n",
    "x = 1 or 1\n",
    "print(x)\n",
    "y = 0 or 0\n",
    "print(y)"
   ]
  },
  {
   "cell_type": "code",
   "execution_count": 31,
   "id": "4d531eeb",
   "metadata": {},
   "outputs": [
    {
     "name": "stdout",
     "output_type": "stream",
     "text": [
      "1\n",
      "0\n"
     ]
    }
   ],
   "source": [
    "# and\n",
    "x = 1 and 1\n",
    "print(x)\n",
    "y = 0 and 1\n",
    "print(y)"
   ]
  },
  {
   "cell_type": "code",
   "execution_count": 37,
   "id": "4fc9088d",
   "metadata": {},
   "outputs": [
    {
     "name": "stdout",
     "output_type": "stream",
     "text": [
      "Enter your age:23\n",
      "Yes Eligible\n"
     ]
    }
   ],
   "source": [
    "age = int(input(\"Enter your age:\"))\n",
    "if age >= 18 and age <=30:\n",
    "    print(\"Yes Eligible\")\n",
    "else:\n",
    "    print(\"You're not eligible\")"
   ]
  },
  {
   "cell_type": "code",
   "execution_count": 40,
   "id": "023c3005",
   "metadata": {},
   "outputs": [
    {
     "data": {
      "text/plain": [
       "-66"
      ]
     },
     "execution_count": 40,
     "metadata": {},
     "output_type": "execute_result"
    }
   ],
   "source": [
    "# not\n",
    "x = 65\n",
    "~x "
   ]
  },
  {
   "cell_type": "markdown",
   "id": "65774320",
   "metadata": {},
   "source": [
    "## Type Conversion"
   ]
  },
  {
   "cell_type": "code",
   "execution_count": 41,
   "id": "a064a04f",
   "metadata": {},
   "outputs": [
    {
     "data": {
      "text/plain": [
       "str"
      ]
     },
     "execution_count": 41,
     "metadata": {},
     "output_type": "execute_result"
    }
   ],
   "source": [
    "num = '56'\n",
    "type(num)"
   ]
  },
  {
   "cell_type": "code",
   "execution_count": 42,
   "id": "368b7652",
   "metadata": {},
   "outputs": [
    {
     "data": {
      "text/plain": [
       "int"
      ]
     },
     "execution_count": 42,
     "metadata": {},
     "output_type": "execute_result"
    }
   ],
   "source": [
    "number = int(num)\n",
    "type(number)"
   ]
  },
  {
   "cell_type": "code",
   "execution_count": 45,
   "id": "392867c1",
   "metadata": {},
   "outputs": [
    {
     "data": {
      "text/plain": [
       "True"
      ]
     },
     "execution_count": 45,
     "metadata": {},
     "output_type": "execute_result"
    }
   ],
   "source": [
    "weight = 65.5\n",
    "weight = bool(weight)\n",
    "weight"
   ]
  },
  {
   "cell_type": "code",
   "execution_count": 46,
   "id": "dfc4367c",
   "metadata": {},
   "outputs": [],
   "source": [
    "# This is single line comment"
   ]
  },
  {
   "cell_type": "code",
   "execution_count": 47,
   "id": "17864216",
   "metadata": {},
   "outputs": [
    {
     "data": {
      "text/plain": [
       "'\\nThis\\nis \\nmultiline\\ncomment\\n'"
      ]
     },
     "execution_count": 47,
     "metadata": {},
     "output_type": "execute_result"
    }
   ],
   "source": [
    "\"\"\"\n",
    "This\n",
    "is \n",
    "multiline\n",
    "comment\n",
    "\"\"\""
   ]
  },
  {
   "cell_type": "markdown",
   "id": "f0bea031",
   "metadata": {},
   "source": [
    "### Function"
   ]
  },
  {
   "cell_type": "code",
   "execution_count": 49,
   "id": "cd78213a",
   "metadata": {},
   "outputs": [
    {
     "data": {
      "text/plain": [
       "18"
      ]
     },
     "execution_count": 49,
     "metadata": {},
     "output_type": "execute_result"
    }
   ],
   "source": [
    "# f(x) = x^2 + 2x + 3\n",
    "# f(2) = 11\n",
    "\n",
    "# defining a function\n",
    "def f(x):\n",
    "    return x**2+2*x+3\n",
    "\n",
    "# calling a function\n",
    "f(3)"
   ]
  },
  {
   "cell_type": "code",
   "execution_count": 53,
   "id": "7191ba61",
   "metadata": {},
   "outputs": [
    {
     "name": "stdout",
     "output_type": "stream",
     "text": [
      "Hello A!!\n",
      "Hello B!!\n",
      "Hello C!!\n"
     ]
    }
   ],
   "source": [
    "def greeting(name):\n",
    "    return 'Hello '+ name + '!!'\n",
    "\n",
    "# name = input(\"Enter your name:\")\n",
    "name = ['A','B','C']\n",
    "\n",
    "for i in name:\n",
    "    print(greeting(i))"
   ]
  },
  {
   "cell_type": "code",
   "execution_count": 61,
   "id": "fc3ab2e7",
   "metadata": {},
   "outputs": [
    {
     "name": "stdout",
     "output_type": "stream",
     "text": [
      "Enter your weight in kg:68\n",
      "Enter your height in (meter)1.73\n",
      "Healthy and your bmi 22.720438370810918\n"
     ]
    }
   ],
   "source": [
    "# bmi\n",
    "def bmi_calc(weight, height): \n",
    "    global bmi\n",
    "    bmi = weight/(height*height)\n",
    "    return bmi\n",
    "\n",
    "weight = float(input(\"Enter your weight in kg:\"))\n",
    "height = float(input(\"Enter your height in (meter)\"))\n",
    "bmi_rating = bmi_calc(weight, height)\n",
    "\n",
    "if bmi_rating <= 16:\n",
    "    print(\"Underweight, need some protein and your bmi is\", bmi_rating)\n",
    "elif bmi_rating>16 and bmi_rating<20:\n",
    "    print(\"Normal Weight and your bmi is\", bmi_rating)\n",
    "elif bmi_rating>20 and bmi_rating<25:\n",
    "    print(\"Healthy and your bmi\", bmi_rating)\n",
    "else:\n",
    "    print(\"Overweight\")"
   ]
  },
  {
   "cell_type": "code",
   "execution_count": 62,
   "id": "4b7ba652",
   "metadata": {},
   "outputs": [
    {
     "name": "stdout",
     "output_type": "stream",
     "text": [
      "22.720438370810918\n"
     ]
    }
   ],
   "source": [
    "print(bmi)"
   ]
  },
  {
   "cell_type": "code",
   "execution_count": null,
   "id": "e04fdfee",
   "metadata": {},
   "outputs": [],
   "source": []
  }
 ],
 "metadata": {
  "kernelspec": {
   "display_name": "Python 3 (ipykernel)",
   "language": "python",
   "name": "python3"
  },
  "language_info": {
   "codemirror_mode": {
    "name": "ipython",
    "version": 3
   },
   "file_extension": ".py",
   "mimetype": "text/x-python",
   "name": "python",
   "nbconvert_exporter": "python",
   "pygments_lexer": "ipython3",
   "version": "3.10.5"
  }
 },
 "nbformat": 4,
 "nbformat_minor": 5
}
